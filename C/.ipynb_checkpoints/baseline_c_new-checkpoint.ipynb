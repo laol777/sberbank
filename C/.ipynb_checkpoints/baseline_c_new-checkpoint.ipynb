{
 "cells": [
  {
   "cell_type": "code",
   "execution_count": 1,
   "metadata": {
    "collapsed": true
   },
   "outputs": [],
   "source": [
    "import pandas as pd\n",
    "import numpy as np\n",
    "from sklearn.feature_extraction import FeatureHasher\n",
    "from sklearn.linear_model import LinearRegression\n",
    "from scipy import sparse\n",
    "from itertools import product"
   ]
  },
  {
   "cell_type": "markdown",
   "metadata": {},
   "source": [
    "Читаем входные файлы с данными"
   ]
  },
  {
   "cell_type": "code",
   "execution_count": 2,
   "metadata": {
    "collapsed": true
   },
   "outputs": [],
   "source": [
    "transactions = pd.read_csv('../data/transactions.csv')\n",
    "customers_gender = pd.read_csv('../data/customers_gender_train.csv')"
   ]
  },
  {
   "cell_type": "code",
   "execution_count": 3,
   "metadata": {
    "collapsed": true
   },
   "outputs": [],
   "source": [
    "cuses_test = list(set(transactions.customer_id.unique().tolist()).difference(customers_gender.customer_id.unique()))\n",
    "all_cuses = transactions.customer_id.unique()\n",
    "all_mcc = transactions.mcc_code.unique()"
   ]
  },
  {
   "cell_type": "markdown",
   "metadata": {},
   "source": [
    "Берём расходные транзакции и формируем тестовую выборку"
   ]
  },
  {
   "cell_type": "code",
   "execution_count": 4,
   "metadata": {
    "collapsed": true
   },
   "outputs": [],
   "source": [
    "transactions = transactions[transactions.amount < 0].copy()\n",
    "transactions['day'] = transactions.tr_datetime.apply(lambda dt: dt.split()[0]).astype(int)"
   ]
  },
  {
   "cell_type": "markdown",
   "metadata": {},
   "source": [
    "Сдвигаем нумерацию дней для того, чтобы окончание обучающих данных совпало с окончанием месяца"
   ]
  },
  {
   "cell_type": "code",
   "execution_count": 5,
   "metadata": {
    "collapsed": true
   },
   "outputs": [],
   "source": [
    "transactions.day += 29 - transactions['day'].max()%30"
   ]
  },
  {
   "cell_type": "markdown",
   "metadata": {},
   "source": [
    "Добавляем признаки, относящиеся к дате."
   ]
  },
  {
   "cell_type": "code",
   "execution_count": 6,
   "metadata": {
    "collapsed": true
   },
   "outputs": [],
   "source": [
    "transactions['month_num'] = (transactions.day) // 30\n",
    "transactions['year_num'] = (transactions.day) // 365"
   ]
  },
  {
   "cell_type": "code",
   "execution_count": 7,
   "metadata": {
    "collapsed": true
   },
   "outputs": [],
   "source": [
    "test_transactions = transactions[transactions.month_num == 15]\n",
    "train_transactions = transactions[transactions.month_num < 15]"
   ]
  },
  {
   "cell_type": "code",
   "execution_count": 8,
   "metadata": {
    "collapsed": true
   },
   "outputs": [],
   "source": [
    "test_transactions = test_transactions.set_index('customer_id')\n",
    "test_transactions = test_transactions.loc[cuses_test]\n",
    "test_transactions = test_transactions.reset_index()"
   ]
  },
  {
   "cell_type": "code",
   "execution_count": 9,
   "metadata": {
    "collapsed": true
   },
   "outputs": [],
   "source": [
    "grid = list(product(*[all_cuses, all_mcc, range(10, 15)]))\n",
    "train_grid = pd.DataFrame(grid, columns = ['customer_id', 'mcc_code', 'month_num'])"
   ]
  },
  {
   "cell_type": "code",
   "execution_count": 10,
   "metadata": {
    "collapsed": true
   },
   "outputs": [],
   "source": [
    "test_grid = list(product(*[cuses_test, all_mcc]))       \n",
    "test_grid = pd.DataFrame(test_grid, columns = ['customer_id', 'mcc_code'])\n",
    "test_grid['month_num'] = 15"
   ]
  },
  {
   "cell_type": "code",
   "execution_count": 11,
   "metadata": {
    "collapsed": true
   },
   "outputs": [],
   "source": [
    "test = pd.merge(test_grid,\n",
    "         test_transactions.groupby(['year_num', 'month_num', 'customer_id', 'mcc_code'])[['amount']].sum().reset_index(),\n",
    "         how='left').fillna(0)"
   ]
  },
  {
   "cell_type": "code",
   "execution_count": 12,
   "metadata": {
    "collapsed": true
   },
   "outputs": [],
   "source": [
    "train = pd.merge(train_grid,\n",
    "         train_transactions.groupby(['year_num', 'month_num', 'customer_id', 'mcc_code'])[['amount']].sum().reset_index(),\n",
    "         how='left').fillna(0)"
   ]
  },
  {
   "cell_type": "code",
   "execution_count": null,
   "metadata": {
    "collapsed": true
   },
   "outputs": [],
   "source": [
    "for month_shift in range(1, 3):\n",
    "    train_shift = train.copy()\n",
    "    train_shift['month_num'] = train_shift['month_num'] + month_shift\n",
    "    train_shift = train_shift.rename(columns={\"amount\" : 'amount_{0}'.format(month_shift)})  \n",
    "    train_shift = train_shift[['year_num', 'month_num', 'customer_id', 'mcc_code', 'amount_{0}'.format(month_shift)]]\n",
    "\n",
    "    train = pd.merge(train, train_shift, \n",
    "                                  on=['year_num', 'month_num', 'customer_id', 'mcc_code'], how='left').fillna(0)\n",
    "    test = pd.merge(test, train_shift, \n",
    "                                 on=['year_num', 'month_num', 'customer_id', 'mcc_code'], how='left').fillna(0)"
   ]
  },
  {
   "cell_type": "code",
   "execution_count": null,
   "metadata": {
    "collapsed": true
   },
   "outputs": [],
   "source": [
    "hasher = FeatureHasher(n_features=10000, input_type='string')\n",
    "train_sparse = \\\n",
    "    hasher.fit_transform(train[['year_num', 'month_num', 'customer_id', 'mcc_code']].astype(str).as_matrix())"
   ]
  },
  {
   "cell_type": "code",
   "execution_count": null,
   "metadata": {
    "collapsed": true
   },
   "outputs": [],
   "source": [
    "test_sparse = \\\n",
    "    hasher.transform(test[['year_num', 'month_num', 'customer_id', 'mcc_code']].astype(str).as_matrix())"
   ]
  },
  {
   "cell_type": "code",
   "execution_count": null,
   "metadata": {
    "collapsed": true
   },
   "outputs": [],
   "source": [
    "train_sparse = sparse.hstack([train_sparse,\n",
    "                              np.log(np.abs(train[['amount_1', 'amount_2']]) + 1).as_matrix()\n",
    "                             ])\n",
    "\n",
    "test_sparse = sparse.hstack([test_sparse,\n",
    "                             np.log(np.abs(test[['amount_1', 'amount_2']]) + 1).as_matrix()\n",
    "                            ])"
   ]
  },
  {
   "cell_type": "markdown",
   "metadata": {},
   "source": [
    "Обучаемся на всех данных"
   ]
  },
  {
   "cell_type": "code",
   "execution_count": null,
   "metadata": {
    "collapsed": true
   },
   "outputs": [],
   "source": [
    "shift = 1\n",
    "clf = GradientBoostingRegressor(learning_rate=0.03, n_estimators=10, max_depth=7)\n",
    "clf.fit(train_sparse, np.log(-train['amount'] + shift))"
   ]
  },
  {
   "cell_type": "markdown",
   "metadata": {},
   "source": [
    "Предсказываем объём трат для тестовых данных и создаём файл с ответом"
   ]
  },
  {
   "cell_type": "code",
   "execution_count": null,
   "metadata": {
    "collapsed": true
   },
   "outputs": [],
   "source": [
    "test['volume'] = np.e ** clf.predict(test_sparse) - shift\n",
    "test[['customer_id', 'mcc_code', 'volume']].to_csv('baseline_c.csv', index=False)"
   ]
  },
  {
   "cell_type": "code",
   "execution_count": null,
   "metadata": {
    "collapsed": true
   },
   "outputs": [],
   "source": []
  }
 ],
 "metadata": {
  "kernelspec": {
   "display_name": "Python 2",
   "language": "python",
   "name": "python2"
  },
  "language_info": {
   "codemirror_mode": {
    "name": "ipython",
    "version": 2
   },
   "file_extension": ".py",
   "mimetype": "text/x-python",
   "name": "python",
   "nbconvert_exporter": "python",
   "pygments_lexer": "ipython2",
   "version": "2.7.12"
  }
 },
 "nbformat": 4,
 "nbformat_minor": 1
}
